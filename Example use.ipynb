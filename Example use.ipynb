{
 "cells": [
  {
   "cell_type": "code",
   "execution_count": 1,
   "metadata": {},
   "outputs": [],
   "source": [
    "from s2dl import fetch_single_sentinel_product, fetch_multiple_sentinel_products\n",
    "from pathlib import Path"
   ]
  },
  {
   "cell_type": "code",
   "execution_count": 2,
   "metadata": {},
   "outputs": [],
   "source": [
    "product_id_L2A = \"S2A_MSIL2A_20220111T021351_N0301_R060_T50HLK_20220111T041611\"\n",
    "product_id_L1C = \"S2B_MSIL1C_20190523T150729_N0207_R082_T18MZA_20190523T183104\"\n",
    "target_directory = Path(\"./data\")\n",
    "target_directory.mkdir(exist_ok=True)"
   ]
  },
  {
   "cell_type": "code",
   "execution_count": 3,
   "metadata": {},
   "outputs": [
    {
     "data": {
      "application/vnd.jupyter.widget-view+json": {
       "model_id": "62e96c6a397c4c019825b0f82f40f001",
       "version_major": 2,
       "version_minor": 0
      },
      "text/plain": [
       "Downloading scene data:   0%|          | 0/14 [00:00<?, ?Scene file/s]"
      ]
     },
     "metadata": {},
     "output_type": "display_data"
    }
   ],
   "source": [
    "# Fetch and save a single Sentinel-2 L2A product's data\n",
    "scene_dir = fetch_single_sentinel_product(product_id_L2A, target_directory)"
   ]
  },
  {
   "cell_type": "code",
   "execution_count": null,
   "metadata": {},
   "outputs": [],
   "source": [
    "# Fetch and save a single Sentinel-2 L1C product's data\n",
    "scene_dir = fetch_single_sentinel_product(product_id_L1C, target_directory)"
   ]
  },
  {
   "cell_type": "code",
   "execution_count": 5,
   "metadata": {},
   "outputs": [
    {
     "data": {
      "application/vnd.jupyter.widget-view+json": {
       "model_id": "ee879f3912af45518d198fadacfb31d0",
       "version_major": 2,
       "version_minor": 0
      },
      "text/plain": [
       "Downloading multiple scenes:   0%|          | 0/2 [00:00<?, ?Scene/s]"
      ]
     },
     "metadata": {},
     "output_type": "display_data"
    },
    {
     "data": {
      "application/vnd.jupyter.widget-view+json": {
       "model_id": "fd7817e4ca664981a933b3f677fc0e06",
       "version_major": 2,
       "version_minor": 0
      },
      "text/plain": [
       "Downloading scene data:   0%|          | 0/14 [00:00<?, ?Scene file/s]"
      ]
     },
     "metadata": {},
     "output_type": "display_data"
    },
    {
     "data": {
      "application/vnd.jupyter.widget-view+json": {
       "model_id": "bdffaf2d39ac4b34a855642ccb208862",
       "version_major": 2,
       "version_minor": 0
      },
      "text/plain": [
       "Downloading scene data:   0%|          | 0/14 [00:00<?, ?Scene file/s]"
      ]
     },
     "metadata": {},
     "output_type": "display_data"
    }
   ],
   "source": [
    "product_ids = [\n",
    "    product_id_L2A,\n",
    "    product_id_L1C,\n",
    "]\n",
    "\n",
    "scene_dir = fetch_multiple_sentinel_products(product_ids, target_directory)"
   ]
  },
  {
   "cell_type": "code",
   "execution_count": null,
   "metadata": {},
   "outputs": [],
   "source": []
  }
 ],
 "metadata": {
  "kernelspec": {
   "display_name": "c2m38pt1",
   "language": "python",
   "name": "python3"
  },
  "language_info": {
   "codemirror_mode": {
    "name": "ipython",
    "version": 3
   },
   "file_extension": ".py",
   "mimetype": "text/x-python",
   "name": "python",
   "nbconvert_exporter": "python",
   "pygments_lexer": "ipython3",
   "version": "3.11.4"
  },
  "orig_nbformat": 4
 },
 "nbformat": 4,
 "nbformat_minor": 2
}
