{
 "cells": [
  {
   "cell_type": "code",
   "execution_count": 2,
   "metadata": {},
   "outputs": [],
   "source": [
    "from s2dl import fetch_single_sentinel_product, fetch_multiple_sentinel_products\n",
    "from pathlib import Path"
   ]
  },
  {
   "cell_type": "code",
   "execution_count": 3,
   "metadata": {},
   "outputs": [],
   "source": [
    "product_id = \"S2B_MSIL1C_20190523T150729_N0207_R082_T18MZA_20190523T183104\"\n",
    "target_directory = Path(\"/Users/Nick/Downloads\")"
   ]
  },
  {
   "cell_type": "code",
   "execution_count": 4,
   "metadata": {},
   "outputs": [
    {
     "data": {
      "application/vnd.jupyter.widget-view+json": {
       "model_id": "e24671c504454102b416f524c7bdac4a",
       "version_major": 2,
       "version_minor": 0
      },
      "text/plain": [
       "Downloading scene data:   0%|          | 0/14 [00:00<?, ?Scene file/s]"
      ]
     },
     "metadata": {},
     "output_type": "display_data"
    }
   ],
   "source": [
    "# Fetch and save a single Sentinel-2 product's data\n",
    "scene_dir = fetch_single_sentinel_product(product_id, target_directory)"
   ]
  },
  {
   "cell_type": "code",
   "execution_count": null,
   "metadata": {},
   "outputs": [
    {
     "ename": "NameError",
     "evalue": "name 'fetch_single_sentinel_product' is not defined",
     "output_type": "error",
     "traceback": [
      "\u001b[0;31m---------------------------------------------------------------------------\u001b[0m",
      "\u001b[0;31mNameError\u001b[0m                                 Traceback (most recent call last)",
      "Cell \u001b[0;32mIn[1], line 1\u001b[0m\n\u001b[0;32m----> 1\u001b[0m scene_dir \u001b[39m=\u001b[39m fetch_single_sentinel_product([product_id, product_id], target_directory)\n",
      "\u001b[0;31mNameError\u001b[0m: name 'fetch_single_sentinel_product' is not defined"
     ]
    }
   ],
   "source": [
    "scene_dir = fetch_multiple_sentinel_products([product_id, product_id], target_directory)"
   ]
  },
  {
   "cell_type": "code",
   "execution_count": null,
   "metadata": {},
   "outputs": [],
   "source": []
  }
 ],
 "metadata": {
  "kernelspec": {
   "display_name": "c2m38pt1",
   "language": "python",
   "name": "python3"
  },
  "language_info": {
   "codemirror_mode": {
    "name": "ipython",
    "version": 3
   },
   "file_extension": ".py",
   "mimetype": "text/x-python",
   "name": "python",
   "nbconvert_exporter": "python",
   "pygments_lexer": "ipython3",
   "version": "3.8.17"
  },
  "orig_nbformat": 4
 },
 "nbformat": 4,
 "nbformat_minor": 2
}
